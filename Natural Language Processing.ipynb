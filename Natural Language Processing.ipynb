{
 "cells": [
  {
   "cell_type": "code",
   "execution_count": 28,
   "metadata": {},
   "outputs": [],
   "source": [
    "import pandas as pd\n",
    "import nltk\n",
    "from nltk.tokenize import RegexpTokenizer\n",
    "import googletrans\n",
    "from googletrans import Translator\n",
    "from deep_translator import GoogleTranslator\n",
    "from autocorrect import Speller\n",
    "from nltk.tokenize import word_tokenize"
   ]
  },
  {
   "attachments": {},
   "cell_type": "markdown",
   "metadata": {},
   "source": [
    "Task 1"
   ]
  },
  {
   "cell_type": "code",
   "execution_count": 20,
   "metadata": {},
   "outputs": [
    {
     "name": "stdout",
     "output_type": "stream",
     "text": [
      "{'af': 'afrikaans', 'sq': 'albanian', 'am': 'amharic', 'ar': 'arabic', 'hy': 'armenian', 'az': 'azerbaijani', 'eu': 'basque', 'be': 'belarusian', 'bn': 'bengali', 'bs': 'bosnian', 'bg': 'bulgarian', 'ca': 'catalan', 'ceb': 'cebuano', 'ny': 'chichewa', 'zh-cn': 'chinese (simplified)', 'zh-tw': 'chinese (traditional)', 'co': 'corsican', 'hr': 'croatian', 'cs': 'czech', 'da': 'danish', 'nl': 'dutch', 'en': 'english', 'eo': 'esperanto', 'et': 'estonian', 'tl': 'filipino', 'fi': 'finnish', 'fr': 'french', 'fy': 'frisian', 'gl': 'galician', 'ka': 'georgian', 'de': 'german', 'el': 'greek', 'gu': 'gujarati', 'ht': 'haitian creole', 'ha': 'hausa', 'haw': 'hawaiian', 'iw': 'hebrew', 'he': 'hebrew', 'hi': 'hindi', 'hmn': 'hmong', 'hu': 'hungarian', 'is': 'icelandic', 'ig': 'igbo', 'id': 'indonesian', 'ga': 'irish', 'it': 'italian', 'ja': 'japanese', 'jw': 'javanese', 'kn': 'kannada', 'kk': 'kazakh', 'km': 'khmer', 'ko': 'korean', 'ku': 'kurdish (kurmanji)', 'ky': 'kyrgyz', 'lo': 'lao', 'la': 'latin', 'lv': 'latvian', 'lt': 'lithuanian', 'lb': 'luxembourgish', 'mk': 'macedonian', 'mg': 'malagasy', 'ms': 'malay', 'ml': 'malayalam', 'mt': 'maltese', 'mi': 'maori', 'mr': 'marathi', 'mn': 'mongolian', 'my': 'myanmar (burmese)', 'ne': 'nepali', 'no': 'norwegian', 'or': 'odia', 'ps': 'pashto', 'fa': 'persian', 'pl': 'polish', 'pt': 'portuguese', 'pa': 'punjabi', 'ro': 'romanian', 'ru': 'russian', 'sm': 'samoan', 'gd': 'scots gaelic', 'sr': 'serbian', 'st': 'sesotho', 'sn': 'shona', 'sd': 'sindhi', 'si': 'sinhala', 'sk': 'slovak', 'sl': 'slovenian', 'so': 'somali', 'es': 'spanish', 'su': 'sundanese', 'sw': 'swahili', 'sv': 'swedish', 'tg': 'tajik', 'ta': 'tamil', 'te': 'telugu', 'th': 'thai', 'tr': 'turkish', 'uk': 'ukrainian', 'ur': 'urdu', 'ug': 'uyghur', 'uz': 'uzbek', 'vi': 'vietnamese', 'cy': 'welsh', 'xh': 'xhosa', 'yi': 'yiddish', 'yo': 'yoruba', 'zu': 'zulu'}\n"
     ]
    }
   ],
   "source": [
    "print(googletrans.LANGUAGES)#language codes"
   ]
  },
  {
   "cell_type": "code",
   "execution_count": 21,
   "metadata": {},
   "outputs": [],
   "source": [
    "eng = pd.read_csv('English.csv')\n",
    "eng_list = eng['English words/sentences'].values.tolist()#convert to list"
   ]
  },
  {
   "cell_type": "code",
   "execution_count": 22,
   "metadata": {},
   "outputs": [
    {
     "name": "stdout",
     "output_type": "stream",
     "text": [
      "Hola.\n"
     ]
    }
   ],
   "source": [
    "#Spanish\n",
    "translator_spanish = GoogleTranslator(source='auto', target='es')\n",
    "spanish = translator_spanish.translate(eng_list[0])\n",
    "print(spanish)"
   ]
  },
  {
   "cell_type": "code",
   "execution_count": 23,
   "metadata": {},
   "outputs": [
    {
     "name": "stdout",
     "output_type": "stream",
     "text": [
      "Salut.\n"
     ]
    }
   ],
   "source": [
    "#French\n",
    "translator_french = GoogleTranslator(source='auto', target='fr')\n",
    "french = translator_french.translate(eng_list[0])\n",
    "print(french)"
   ]
  },
  {
   "cell_type": "code",
   "execution_count": 26,
   "metadata": {},
   "outputs": [
    {
     "name": "stdout",
     "output_type": "stream",
     "text": [
      "Zürich gilt als wichtiger Finanzplatz.\n"
     ]
    }
   ],
   "source": [
    "#German\n",
    "translator_german = GoogleTranslator(source='auto', target='de')\n",
    "german = translator_german.translate(eng_list[162873])\n",
    "print(german)"
   ]
  },
  {
   "attachments": {},
   "cell_type": "markdown",
   "metadata": {},
   "source": [
    "Task 2"
   ]
  },
  {
   "cell_type": "code",
   "execution_count": 29,
   "metadata": {},
   "outputs": [],
   "source": [
    "spell = Speller(lang = 'en')\n",
    "\n",
    "def correct_spell(tokens):\n",
    "    senten_corrected = ' '.join([spell(word) for word in tokens])\n",
    "    return senten_corrected"
   ]
  },
  {
   "cell_type": "code",
   "execution_count": 33,
   "metadata": {},
   "outputs": [],
   "source": [
    "misspell = pd.read_csv('Misspelled Words.csv')\n",
    "miss_list = misspell['Words'].values.tolist()\n",
    "\n",
    "def correct_word(t):\n",
    "    word_correct = [spell(i) for i in t]\n",
    "    return word_correct"
   ]
  },
  {
   "cell_type": "code",
   "execution_count": 30,
   "metadata": {},
   "outputs": [
    {
     "name": "stdout",
     "output_type": "stream",
     "text": [
      "Natural Language Processing deals with art of extracting insights from Natural Language\n"
     ]
    }
   ],
   "source": [
    "sentence = word_tokenize(\"Ntural Luanguage Processin deals with art of extracting insightes from Natureal Languaagge\")\n",
    "print(correct_spell(sentence))"
   ]
  },
  {
   "cell_type": "code",
   "execution_count": 34,
   "metadata": {},
   "outputs": [
    {
     "data": {
      "text/plain": [
       "['millennia',\n",
       " 'absence',\n",
       " 'accommodate',\n",
       " 'achieve',\n",
       " 'across',\n",
       " 'aggressive',\n",
       " 'apparently',\n",
       " 'appearance',\n",
       " 'arguement',\n",
       " 'assassination',\n",
       " 'basic',\n",
       " 'beginning',\n",
       " 'believe',\n",
       " 'business',\n",
       " 'calendar',\n",
       " 'Caribbean',\n",
       " 'category',\n",
       " 'cemetery',\n",
       " 'college',\n",
       " 'coming',\n",
       " 'committee',\n",
       " 'completely',\n",
       " 'conscience',\n",
       " 'conscious',\n",
       " 'copywrite',\n",
       " 'curiosity',\n",
       " 'definately',\n",
       " 'disappear',\n",
       " 'disappoint',\n",
       " 'ecstasy',\n",
       " 'embarrass',\n",
       " 'environment',\n",
       " 'existance',\n",
       " 'familiar',\n",
       " 'final',\n",
       " 'fluorescent',\n",
       " 'foreign',\n",
       " 'fourth',\n",
       " 'forward',\n",
       " 'friend',\n",
       " 'further',\n",
       " 'glamorous',\n",
       " 'government',\n",
       " 'grammar',\n",
       " 'gauge',\n",
       " 'grateful',\n",
       " 'guard',\n",
       " 'happened',\n",
       " 'harass',\n",
       " 'honorary',\n",
       " 'humorous',\n",
       " 'immediately',\n",
       " 'incident',\n",
       " 'independant',\n",
       " 'interrupt',\n",
       " 'irresistible',\n",
       " 'harrassment',\n",
       " 'knowledge',\n",
       " 'lightning',\n",
       " 'medicine',\n",
       " 'millennium',\n",
       " 'spell',\n",
       " 'necessary',\n",
       " 'noticeable',\n",
       " 'occasion',\n",
       " 'occurred',\n",
       " 'occurrence',\n",
       " 'parallel',\n",
       " 'persistent',\n",
       " 'Philippines',\n",
       " 'piece',\n",
       " 'political',\n",
       " 'possession',\n",
       " 'preferred',\n",
       " 'privilege',\n",
       " 'pronunciation',\n",
       " 'publicly',\n",
       " 'really',\n",
       " 'receive',\n",
       " 'referee',\n",
       " 'religious',\n",
       " 'member',\n",
       " 'resistance',\n",
       " 'since',\n",
       " 'seperate',\n",
       " 'successful',\n",
       " 'surprise',\n",
       " 'tendency',\n",
       " 'therefore',\n",
       " 'threshold',\n",
       " 'tomorrow',\n",
       " 'lounge',\n",
       " 'truly',\n",
       " 'unforeseen',\n",
       " 'unfortunately',\n",
       " 'until',\n",
       " 'vicious',\n",
       " 'weird',\n",
       " 'wherever',\n",
       " 'whether',\n",
       " 'whether',\n",
       " 'with']"
      ]
     },
     "execution_count": 34,
     "metadata": {},
     "output_type": "execute_result"
    }
   ],
   "source": [
    "correct_word(miss_list)"
   ]
  }
 ],
 "metadata": {
  "kernelspec": {
   "display_name": "base",
   "language": "python",
   "name": "python3"
  },
  "language_info": {
   "codemirror_mode": {
    "name": "ipython",
    "version": 3
   },
   "file_extension": ".py",
   "mimetype": "text/x-python",
   "name": "python",
   "nbconvert_exporter": "python",
   "pygments_lexer": "ipython3",
   "version": "3.9.12"
  },
  "orig_nbformat": 4,
  "vscode": {
   "interpreter": {
    "hash": "a9c37716b8879b23c090eb9b1516d49375d91346d5f8509eb6f0652db209ab4a"
   }
  }
 },
 "nbformat": 4,
 "nbformat_minor": 2
}
